{
  "cells": [
    {
      "cell_type": "markdown",
      "source": [],
      "metadata": {
        "id": "ISQDgP5bKwSQ"
      },
      "id": "ISQDgP5bKwSQ"
    },
    {
      "cell_type": "markdown",
      "id": "a58f70b9",
      "metadata": {
        "id": "a58f70b9"
      },
      "source": [
        "# **NER Sinhala Politcal Domain**"
      ]
    },
    {
      "cell_type": "code",
      "source": [],
      "metadata": {
        "id": "TEndOqJZLCBP"
      },
      "id": "TEndOqJZLCBP",
      "execution_count": null,
      "outputs": []
    }
  ],
  "metadata": {
    "kernelspec": {
      "display_name": ".venv",
      "language": "python",
      "name": "python3"
    },
    "language_info": {
      "codemirror_mode": {
        "name": "ipython",
        "version": 3
      },
      "file_extension": ".py",
      "mimetype": "text/x-python",
      "name": "python",
      "nbconvert_exporter": "python",
      "pygments_lexer": "ipython3",
      "version": "3.12.10"
    },
    "colab": {
      "provenance": []
    }
  },
  "nbformat": 4,
  "nbformat_minor": 5
}